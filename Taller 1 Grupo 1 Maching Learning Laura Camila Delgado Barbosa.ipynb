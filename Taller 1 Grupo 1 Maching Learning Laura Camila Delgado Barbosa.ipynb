{
  "nbformat": 4,
  "nbformat_minor": 0,
  "metadata": {
    "colab": {
      "provenance": []
    },
    "kernelspec": {
      "name": "python3",
      "display_name": "Python 3"
    },
    "language_info": {
      "name": "python"
    }
  },
  "cells": [
    {
      "cell_type": "markdown",
      "source": [
        "#Primer Taller"
      ],
      "metadata": {
        "id": "StHuIjhvum1Z"
      }
    },
    {
      "cell_type": "markdown",
      "source": [
        "Crear una funcion  que sume dos números y divida la suma en un tercero\n",
        "\n",
        "- Asegúrese de que los numero sean enteros\n",
        "- Evite la división entre cero"
      ],
      "metadata": {
        "id": "goqSTbGxvl2k"
      }
    },
    {
      "cell_type": "code",
      "source": [
        "def suma_numeros( a: int, b: int, c:int):\n",
        "\n",
        "  if type(a) == int and type(b) == int and type(c) == int:\n",
        "    suma = a + b\n",
        "    if c!=0:\n",
        "      print(suma/c)\n",
        "    else:\n",
        "      print(\" c Debe ser un valor diferente de 0\")\n",
        "  else:\n",
        "      print(\" Todos los valores deben ser enteros\")"
      ],
      "metadata": {
        "id": "ALFPpVt40Z4-"
      },
      "execution_count": 57,
      "outputs": []
    },
    {
      "cell_type": "code",
      "source": [
        "suma_numeros(\"h\",10,5)"
      ],
      "metadata": {
        "colab": {
          "base_uri": "https://localhost:8080/"
        },
        "id": "Qe4fAzx65OmD",
        "outputId": "020ef532-4401-4b70-f908-a2196fa20367"
      },
      "execution_count": 55,
      "outputs": [
        {
          "output_type": "stream",
          "name": "stdout",
          "text": [
            " Todos los valores deben ser enteros\n"
          ]
        }
      ]
    },
    {
      "cell_type": "code",
      "source": [
        "suma_numeros(10,10,0)"
      ],
      "metadata": {
        "colab": {
          "base_uri": "https://localhost:8080/"
        },
        "id": "0wYY9K0H7LIC",
        "outputId": "aea6b6e0-eae4-4f25-8aa3-1bbc7734fd43"
      },
      "execution_count": 58,
      "outputs": [
        {
          "output_type": "stream",
          "name": "stdout",
          "text": [
            " c Debe ser un valor diferente de 0\n"
          ]
        }
      ]
    },
    {
      "cell_type": "code",
      "source": [
        "suma_numeros(10,10,5)"
      ],
      "metadata": {
        "colab": {
          "base_uri": "https://localhost:8080/"
        },
        "id": "aTr0bKtN5Yk6",
        "outputId": "274dffd1-2318-4c9b-b322-7ad5def66296"
      },
      "execution_count": 54,
      "outputs": [
        {
          "output_type": "stream",
          "name": "stdout",
          "text": [
            "4.0\n"
          ]
        }
      ]
    }
  ]
}