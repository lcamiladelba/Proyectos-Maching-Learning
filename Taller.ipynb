{
  "nbformat": 4,
  "nbformat_minor": 0,
  "metadata": {
    "colab": {
      "provenance": []
    },
    "kernelspec": {
      "name": "python3",
      "display_name": "Python 3"
    },
    "language_info": {
      "name": "python"
    }
  },
  "cells": [
    {
      "cell_type": "markdown",
      "source": [
        "#Taller"
      ],
      "metadata": {
        "id": "P8tdjN1bPTMw"
      }
    },
    {
      "cell_type": "markdown",
      "source": [
        "## 1. Define dos variables, nombre y edad, e imprime un mensaje de saludo que las utilice."
      ],
      "metadata": {
        "id": "TrVfw34XPe5p"
      }
    },
    {
      "cell_type": "code",
      "source": [
        "nombre= \"Laura\" # La variable 'nombre' almacena el valor \"Laura\"\n",
        "edad= 24  # La variable 'edad' almacena el valor numérico 24\n",
        "print(\"Hola como estas\",  {nombre}) # Impresión de un mensaje utilizando la variable 'nombre'\n",
        "print(\"Tu edad es\",  {edad}) # Impresión de un mensaje utilizando la variable 'edad'"
      ],
      "metadata": {
        "colab": {
          "base_uri": "https://localhost:8080/"
        },
        "id": "Gb5c1TvWPn7R",
        "outputId": "0154a4fe-29e8-4d32-b100-86a17b7b642c"
      },
      "execution_count": 40,
      "outputs": [
        {
          "output_type": "stream",
          "name": "stdout",
          "text": [
            "Hola como estas {'Laura'}\n",
            "Tu edad es {24}\n"
          ]
        }
      ]
    },
    {
      "cell_type": "markdown",
      "source": [
        "##2. Calcula y muestra el área de un círculo. Pide al usuario que ingrese el radio."
      ],
      "metadata": {
        "id": "F-bBD9sNSmAx"
      }
    },
    {
      "cell_type": "code",
      "source": [
        "def area__circulo (r=int): # Esto define una función llamada area_circulo que toma un argumento llamado r. El argumento r está marcado con int, lo que significa que se espera que sea un valor numérico entero.\n",
        "  if type(r)== int: #Esta línea verifica si el tipo de r es un entero (int). type(r) devuelve el tipo de r, y esta línea compara ese tipo con int para determinar si r es un entero.\n",
        "    A=3.141592653589793*(r*r) # Calcula el área del círculo utilizando la fórmula π * r^2, donde π es una aproximación de 3.141592653589793 y r es el radio del círculo.\n",
        "    print(A) #Imprime el valor de A entre llaves.\n",
        "  else: #Esta parte se ejecuta si la condición en el primer if no se cumple, lo que significa que r no es un número entero.\n",
        "    print(\"El radio debe ser un numero entero\") #Imprime un mensaje que indica que el radio debe ser un número entero.\""
      ],
      "metadata": {
        "id": "upVIcH11SssI"
      },
      "execution_count": 53,
      "outputs": []
    },
    {
      "cell_type": "code",
      "source": [
        "area__circulo(2) #Esta función calcula y muestra el área de un círculo si se proporciona un radio que sea un número entero. Si el radio no es un número entero, muestra un mensaje de error"
      ],
      "metadata": {
        "colab": {
          "base_uri": "https://localhost:8080/"
        },
        "id": "MdHnOIYYWqFz",
        "outputId": "8b5d2524-ba1c-4a25-f6ac-8f5e2e537458"
      },
      "execution_count": 56,
      "outputs": [
        {
          "output_type": "stream",
          "name": "stdout",
          "text": [
            "12.566370614359172\n"
          ]
        }
      ]
    },
    {
      "cell_type": "code",
      "source": [
        "area__circulo(\"Laura\") #Aca muestra el error ya que no es un numero entero"
      ],
      "metadata": {
        "colab": {
          "base_uri": "https://localhost:8080/"
        },
        "id": "nnxzhI5tWwMq",
        "outputId": "21384498-8a72-4fe5-a79f-807b2603890d"
      },
      "execution_count": 62,
      "outputs": [
        {
          "output_type": "stream",
          "name": "stdout",
          "text": [
            "El radio debe ser un numero entero\n"
          ]
        }
      ]
    },
    {
      "cell_type": "markdown",
      "source": [
        "## 3. Escribe una función calcular_promedio que tome una lista de números como argumento y devuelva su promedio."
      ],
      "metadata": {
        "id": "VO_w6e3pXwRK"
      }
    },
    {
      "cell_type": "code",
      "source": [
        "edades=[5,10,13,29,2] # Se crea una lista llamada edades que contiene cinco valores numéricos."
      ],
      "metadata": {
        "id": "v0J3vw6Geerx"
      },
      "execution_count": 60,
      "outputs": []
    },
    {
      "cell_type": "code",
      "source": [
        "def calcular_promedio(lista): # Esto define una función llamada calcular_promedio que toma un argumento lista, que se espera que sea una lista de números.\n",
        "    n= sum(lista) #Calcula la suma de todos los elementos en la lista lista y almacena el resultado en la variable n.\n",
        "    N= len(lista) #Calcula cuántos elementos tiene la lista y almacena el resultado en la variable N\n",
        "    if N<2: #Esta línea inicia una estructura condicional. Si la lista tiene menos de dos elementos, se ejecutará el bloque de código indentado debajo.\n",
        "      print(\"La lista debe por lo menos tener dos numeros\") #Imprime un mensaje que indica que la lista debe tener al menos dos números.\n",
        "    else: #  Si la condición anterior no se cumple, la longitud de la lista es 2 o más, se ejecutará este bloque de código.\n",
        "      promedio=n/N #Calcula el promedio dividiendo la suma total de la lista n por el número de elementos en la lista N y almacena el resultado en la variable promedio.\n",
        "      return(promedio) #Retorna el valor del promedio calculado.\n"
      ],
      "metadata": {
        "id": "eBWm_W3jW063"
      },
      "execution_count": 58,
      "outputs": []
    },
    {
      "cell_type": "code",
      "source": [
        "calcular_promedio(edades) ##Esta función calcula y muestra el promedio de edades."
      ],
      "metadata": {
        "colab": {
          "base_uri": "https://localhost:8080/"
        },
        "id": "S9lqM_7OfL22",
        "outputId": "d4456ae0-b341-46a3-b6d9-5c78ae29d9c2"
      },
      "execution_count": 63,
      "outputs": [
        {
          "output_type": "execute_result",
          "data": {
            "text/plain": [
              "11.8"
            ]
          },
          "metadata": {},
          "execution_count": 63
        }
      ]
    },
    {
      "cell_type": "markdown",
      "source": [
        "## 4. Crea una lista de números y utiliza un bucle for para mostrar los números mayores que 10.\n",
        "\n"
      ],
      "metadata": {
        "id": "F1JRD3FC3_U3"
      }
    },
    {
      "cell_type": "code",
      "source": [
        "numeros=[8,9,28,19,70,24,36] # Se crea una lista llamada numeros que contiene siete valores numéricos."
      ],
      "metadata": {
        "id": "fyfVzRc94FiO"
      },
      "execution_count": 64,
      "outputs": []
    },
    {
      "cell_type": "code",
      "source": [
        "for i in numeros: # Esto inicia un bucle for que iterará a través de cada elemento en la lista numeros. En cada iteración, el valor actual del elemento se asignará a la variable i.\n",
        "  if i>10: #En cada iteración del bucle, se verifica si el valor actual i es mayor que 10.\n",
        "    print(i) # Si la condición i > 10 se cumple se ejecutará esta línea. Imprimirá el valor actual i."
      ],
      "metadata": {
        "colab": {
          "base_uri": "https://localhost:8080/"
        },
        "id": "WIGU40gl4ZOE",
        "outputId": "b0471c13-f3d4-41b2-97b7-05aeebd0e43f"
      },
      "execution_count": 65,
      "outputs": [
        {
          "output_type": "stream",
          "name": "stdout",
          "text": [
            "28\n",
            "19\n",
            "70\n",
            "24\n",
            "36\n"
          ]
        }
      ]
    },
    {
      "cell_type": "markdown",
      "source": [
        "## 5. Define un diccionario que almacene los precios de tres productos diferentes. Pide al usuario que ingrese el nombre de un producto y muestra su precio"
      ],
      "metadata": {
        "id": "rypUY5NL5Yhe"
      }
    },
    {
      "cell_type": "code",
      "source": [
        "precios={'cafe':3.2,'azucar':1.9,'leche':10.6} #Crea un diccionario llamado precios, que almacena los precios de tres productos diferentes ('cafe', 'azucar', 'leche'), y los valores son los precios correspondientes (3.2, 1.9, 10.6)."
      ],
      "metadata": {
        "id": "7Hi6R2j15dqR"
      },
      "execution_count": 67,
      "outputs": []
    },
    {
      "cell_type": "code",
      "source": [
        "producto=input(\"Ingrese el nombre de un producto\") #Esta línea de código solicita al usuario que ingrese el nombre de un producto y almacena la entrada en la variable producto"
      ],
      "metadata": {
        "colab": {
          "base_uri": "https://localhost:8080/"
        },
        "id": "NvDhtvVa6Tgi",
        "outputId": "ce7c12d4-b3f0-4fb4-e294-df5df8a4dd41"
      },
      "execution_count": 68,
      "outputs": [
        {
          "name": "stdout",
          "output_type": "stream",
          "text": [
            "Ingrese el nombre de un productocafe\n"
          ]
        }
      ]
    },
    {
      "cell_type": "code",
      "source": [
        "if producto in precios: # Inicia un bloque condicional utilizando la sentencia if. La condición que se evalúa aquí es si el valor de la variable producto está presente como una clave en el diccionario precios.\n",
        "  valor = precios[producto] #Si la condición del if se cumple, esta línea de código asigna el valor correspondiente a la clave producto en el diccionario precios a la variable valor.\n",
        "  print(f\"El precio de '{producto}'es {valor}\")# Se utiliza la función print para mostrar un mensaje. El mensaje incluye el nombre del producto y su precio utilizando una f-string. Una f-string es una forma conveniente de formatear cadenas en Python, donde las expresiones encerradas en llaves {} son evaluadas y sus valores se insertan en la cadena.\n",
        "else: #Si la condición del if en la primera línea no se cumple, si el producto no está presente en el diccionario precios, entonces se ejecutará este bloque de código.\n",
        "  print(\"el producto no se encuentra disponible\")"
      ],
      "metadata": {
        "colab": {
          "base_uri": "https://localhost:8080/"
        },
        "id": "T3v0yovW7FoH",
        "outputId": "94c62068-c144-479b-b665-4e2752419dcf"
      },
      "execution_count": 69,
      "outputs": [
        {
          "output_type": "stream",
          "name": "stdout",
          "text": [
            "El precio de 'cafe'es 3.2\n"
          ]
        }
      ]
    },
    {
      "cell_type": "markdown",
      "source": [
        "## 6. Escribe una función es_primo que determine si un número dado es primo o no.\n",
        "\n"
      ],
      "metadata": {
        "id": "WfebB-Tr8wJK"
      }
    },
    {
      "cell_type": "code",
      "source": [
        "def es_primo(numero): #Define una función llamada es_primo que toma un argumento llamado numero. Esta función se utilizará para determinar si un número dado es primo o no.\n",
        "    if numero <= 1: #Esta condición verifica si el número es igual a 1 o menor. En matemáticas, los números primos son mayores que 1.\n",
        "        return False #Si el número es igual a 1 o menor, la función retorna False, indicando que no es primo.\n",
        "    elif numero <= 3: #Si el número es menor o igual a 3. Los números primos 2 y 3 son los únicos primos que cumplen con esta condición.\n",
        "        return True #Si el número es 2 o 3, la función retorna True, indicando que es primo.\n",
        "    elif numero % 2 == 0 or numero % 3 == 0: # Se verifica si el número es divisible por 2 o por 3.\n",
        "        return False #Si el número es divisible por alguno de estos dos, entonces no es primo, y la función retorna False.\n",
        "    i = 5 #Se utiliza el hecho de que los números primos (excepto 2 y 3) son de la forma 6k ± 1.\n",
        "    while i * i <= numero: #Sección utiliza un bucle while para realizar una comprobación más eficiente para determinar si el número es primo.\n",
        "        if numero % i == 0 or numero % (i + 2) == 0: #El bucle itera mientras el cuadrado de i sea menor o igual al número dado. Luego, verifica si el número es divisible por i o por i + 2.\n",
        "            return False #Si es divisible por alguno de ellos, entonces el número no es primo y la función retorna False\n",
        "        i += 6 # Luego, se incrementa i en 6 para pasar al siguiente posible valor primo.\n",
        "    return True #Si el número ha pasado todas las comprobaciones anteriores, entonces se asume que es primo y la función retorna True."
      ],
      "metadata": {
        "id": "IRKGLefc81zK"
      },
      "execution_count": null,
      "outputs": []
    },
    {
      "cell_type": "code",
      "source": [
        "numero1=17 #Se asigna valor a la variable numero1 se establece en 17.\n",
        "numero2=30 #Se asigna valor a la variable numero2 se establece en 30.\n",
        "if es_primo(numero1):#se utiliza la función es_primo para verificar si numero1 es primo.\n",
        "   print(numero1, \"es primo\") # Si la función retorna True, se imprime un mensaje indicando que numero1 es primo.\n",
        "else: #Si la función retorna False.\n",
        "   print(numero1,\"no es primo\")#Se imprime un mensaje indicando que numero1 no es primo.\n",
        "if es_primo(numero2):#Se utiliza la función es_primo para verificar si numero2 es primo.\n",
        "   print(numero2, \"es primo\")#Si la función retorna True, se imprime un mensaje indicando que numero2 es primo.\n",
        "else: #Si la función retorna False.\n",
        "   print(numero2, \"no es primo\") #Se imprime un mensaje indicando que numero2 no es primo."
      ],
      "metadata": {
        "colab": {
          "base_uri": "https://localhost:8080/"
        },
        "id": "yPdnlaBYDFAV",
        "outputId": "4851cac2-d97b-4c2b-d1cd-76c0be347899"
      },
      "execution_count": null,
      "outputs": [
        {
          "output_type": "stream",
          "name": "stdout",
          "text": [
            "17 es primo\n",
            "30 no es primo\n"
          ]
        }
      ]
    },
    {
      "cell_type": "markdown",
      "source": [
        "## 7. Crea una lista de nombres y utiliza un bucle while para imprimir cada nombre hasta que encuentres el nombre \"Alex\".\n"
      ],
      "metadata": {
        "id": "VzI73aNR03ie"
      }
    },
    {
      "cell_type": "code",
      "source": [
        "nombres=['laura','andres', 'felipe', 'sergio', 'alex', 'sofia', 'camilo', 'ivan', 'juan', 'valenria', 'sara'] #Se crea una lista llamada nombres que contiene varios elementos, que en este caso son nombres."
      ],
      "metadata": {
        "id": "TlNS5fsb1ATj"
      },
      "execution_count": 72,
      "outputs": []
    },
    {
      "cell_type": "code",
      "source": [
        "indice=0 #Se inicia la variable indice con el valor 0. Esta variable se utilizará para rastrear la posición actual en la lista nombres.\n",
        "while indice < len(nombres):#Bucle while que recorrerá todos los elementos de la lista.\n",
        "    print(nombres[indice])# imprime el elemento en la posición actual del índice en la lista nombres. El índice se utiliza para acceder a diferentes elementos de la lista durante cada iteración del bucle.\n",
        "    indice+= 1 #Después de imprimir el nombre en la posición actual, el valor de indice se incrementa en 1. Esto moverá el bucle a la siguiente posición de la lista en la próxima iteración.\n",
        "    if nombres[indice] == 'alex': #Verifica si el elemento en la posición actual (la que se incrementó en la línea anterior) es igual a 'alex'.\n",
        "      break #Verifica si el elemento en la posición actual es igual a 'alex'. Si es así, se ejecuta la sentencia break, que interrumpe el bucle y sale de él prematuramente."
      ],
      "metadata": {
        "colab": {
          "base_uri": "https://localhost:8080/"
        },
        "id": "EB3RnSxd2k07",
        "outputId": "e3ca5943-d286-426e-e4d6-e3f057a14d35"
      },
      "execution_count": 74,
      "outputs": [
        {
          "output_type": "stream",
          "name": "stdout",
          "text": [
            "laura\n",
            "andres\n",
            "felipe\n",
            "sergio\n"
          ]
        }
      ]
    },
    {
      "cell_type": "markdown",
      "source": [
        "## 8. Escribe una función invertir_cadena que tome una cadena como argumento y devuelva la cadena invertida."
      ],
      "metadata": {
        "id": "onE47B2I5goc"
      }
    },
    {
      "cell_type": "code",
      "source": [
        "def invertir_cadena (cadena): #Esta función se utilizará para invertir el orden de los caracteres en la cadena que se le pase como entrada.\n",
        "  cadena_invertida = cadena [::-1] #Utiliza el slicing de cadenas para crear una nueva cadena llamada cadena_invertida. El slicing de la forma [inicio:fin:paso] se utiliza aquí con [::-1] para obtener una subcadena que empiece desde el final de la cadena original, pase por cada caracter en orden inverso y termine en el primer caracter. Esto resulta en la inversión de la cadena original.\n",
        "  return cadena_invertida #retorna la cadena invertida (cadena_invertida) como resultado de la función."
      ],
      "metadata": {
        "id": "eXv_Ifoa5mr0"
      },
      "execution_count": null,
      "outputs": []
    },
    {
      "cell_type": "code",
      "source": [
        "cadena1= \"Laura Delgado\" #Se asigna la cadena de texto \"Laura Delgado\" a la variable cadena1.\n",
        "cadena_invertida = invertir_cadena(cadena1) #Se llama a la función invertir_cadena que se ha definido previamente, y se pasa la cadena cadena1 como argumento. Esto significa que la función intentará invertir la cadena \"Laura Delgado\"\n",
        "print(cadena_invertida) # El resultado se asigna a la variable cadena_invertida; imprime el valor contenido en la variable cadena_invertida"
      ],
      "metadata": {
        "colab": {
          "base_uri": "https://localhost:8080/"
        },
        "id": "fmPxKonqDvJV",
        "outputId": "a33ed721-8e65-4e16-cf71-1c59d5955651"
      },
      "execution_count": null,
      "outputs": [
        {
          "output_type": "stream",
          "name": "stdout",
          "text": [
            "odagleD aruaL\n"
          ]
        }
      ]
    },
    {
      "cell_type": "markdown",
      "source": [
        "## 9. Crea una lista de números pares del 2 al 20 utilizando una comprensión de lista."
      ],
      "metadata": {
        "id": "4urfLRdgFx80"
      }
    },
    {
      "cell_type": "code",
      "source": [
        "pares= [numero for numero in range(2,21,2)] #Se utiliza una lista para generar una lista de números pares; numero es una variable temporal que se utiliza en la comprensión de lista. En cada iteración del bucle, tomará el valor actual del bucle.es una variable temporal que se utiliza en la comprensión de lista.\n",
        "print(pares) #Se imprimen la lista pares, lo que muestra todos los números pares del 2 al 20."
      ],
      "metadata": {
        "colab": {
          "base_uri": "https://localhost:8080/"
        },
        "id": "-VoH4WzXF-ej",
        "outputId": "460a2c95-61f4-429a-ad25-c84bdae8ce82"
      },
      "execution_count": null,
      "outputs": [
        {
          "output_type": "stream",
          "name": "stdout",
          "text": [
            "[2, 4, 6, 8, 10, 12, 14, 16, 18, 20]\n"
          ]
        }
      ]
    },
    {
      "cell_type": "markdown",
      "source": [
        "## 10. Escribe un programa que genere los primeros n términos de la serie de Fibonacci a discresión del usuario."
      ],
      "metadata": {
        "id": "5EcgERD9IO_R"
      }
    },
    {
      "cell_type": "code",
      "source": [
        "def fibonaccia(nume):#Define una función llamada fibonaccia que toma un argumento llamado nume. Esta función se utilizará para generar una serie de números de Fibonacci con nume términos.\n",
        "  fi=[0,1] #Se inicia la lista fi con los dos primeros números de Fibonacci: 0 y 1. Estos son los valores iniciales a partir de los cuales se construirá el resto de la serie.\n",
        "  for i in range(2, nume): #Se inicia un bucle for que irá desde 2 hasta nume - 1. Esto se realiza porque se ha definido los primeros dos términos en la lista fi, y se quiere generar los términos restantes.\n",
        "    fibona=fi[i-1]+fi[i-2] # Dentro del bucle, se calcula el siguiente término de Fibonacci sumando los dos términos anteriores en la lista fi. Esto se almacena en la variable fibona.\n",
        "    fi.append(fibona) #El término calculado fibona se agrega a la lista fi utilizando el método append(). Esto expande la lista con el nuevo término calculado.\n",
        "  return fi #Se retorna la lista fi, que contiene la serie de Fibonacci generada.\n",
        "cantidad= 10 #Se generarán los primeros 10 términos de la serie de Fibonacci.\n",
        "serie=fibonaccia(cantidad) #El resultado se guarda en la variable serie.\n",
        "print(10,serie) #Se imprime la serie de Fibonacci generada utilizando la función fibonaccia."
      ],
      "metadata": {
        "id": "Vw1d8e7mIX8n",
        "colab": {
          "base_uri": "https://localhost:8080/"
        },
        "outputId": "db93aaf1-2302-436b-abcc-67b86c26ba08"
      },
      "execution_count": null,
      "outputs": [
        {
          "output_type": "stream",
          "name": "stdout",
          "text": [
            "10 [0, 1, 1, 2, 3, 5, 8, 13, 21, 34]\n"
          ]
        }
      ]
    },
    {
      "cell_type": "markdown",
      "source": [
        "## 11. Escribe una función calcular_interes_simple que calcule el interés simple dado el principal, la tasa de interés y el tiempo en años."
      ],
      "metadata": {
        "id": "bdorfjpfXGp-"
      }
    },
    {
      "cell_type": "code",
      "source": [
        "def calcular_interes_simple (p= \"capital\",r=\"tasa de interes\",t=\"tiempo\"):#Calcula el interés simple dado el capital (p), la tasa de interés (r) y el tiempo (t).\n",
        "  if type (p) == int and type (r) == int and type(t) == int: #Se inicia una estructura condicional que verifica si la condición es verdadera, se verifica si el tipo de dato de p es un entero, se verifican si todas las condiciones anteriores son verdaderas.\n",
        "    interes_simple = p*r*t #Variable donde se almacenará el resultado del cálculo del interés simple, la p * r * t es una multiplicación de los valores para calcular el interés simple.\n",
        "    print(interes_simple) # Imprime el valor calculado de interes_simple.\n",
        "  else: #Si la condición en el if es falsa.\n",
        "    print(\"Debe ingresar la tasa de interes, el tiempo y el capital; la tasa de interes y el tiempo deben tener estar en la misma medidad e tiempo\") #Imprime un mensaje de error indicando que se deben proporcionar los valores correctos para calcular el interés simple."
      ],
      "metadata": {
        "id": "b8EIidxYXY-c"
      },
      "execution_count": null,
      "outputs": []
    },
    {
      "cell_type": "code",
      "source": [
        "calcular_interes_simple(1000000,9,4) #Calcula la funcion establecida"
      ],
      "metadata": {
        "colab": {
          "base_uri": "https://localhost:8080/"
        },
        "id": "EgZznPA8aunY",
        "outputId": "03e8af2b-745e-4511-e9a2-6aac655481c7"
      },
      "execution_count": null,
      "outputs": [
        {
          "output_type": "stream",
          "name": "stdout",
          "text": [
            "36000000\n"
          ]
        }
      ]
    },
    {
      "cell_type": "code",
      "source": [
        "calcular_interes_simple(\"la\",5,5) #Imprime un mensaje de error indicando que se deben proporcionar los valores correctos para calcular el interés simple."
      ],
      "metadata": {
        "colab": {
          "base_uri": "https://localhost:8080/"
        },
        "id": "xlycX8K-ccVz",
        "outputId": "bfbc7530-7175-4823-86da-469cfeb97382"
      },
      "execution_count": null,
      "outputs": [
        {
          "output_type": "stream",
          "name": "stdout",
          "text": [
            "Debe ingresar la tasa de interes, el tiempo y el capital; la tasa de interes y el tiempo deben tener estar en la misma medidad e tiempo\n"
          ]
        }
      ]
    },
    {
      "cell_type": "markdown",
      "source": [
        "## 12. Crea una lista de precios de acciones. Utiliza una función para calcular el promedio de esos precios."
      ],
      "metadata": {
        "id": "Nxm4Lx_qczhf"
      }
    },
    {
      "cell_type": "code",
      "source": [
        "precios= [5.7, 8.9, 12.5, 26.8, 34.1, 42.6] #Crea una lista llamada precios que contiene varios valores numéricos."
      ],
      "metadata": {
        "id": "_JYFydQH752E"
      },
      "execution_count": 14,
      "outputs": []
    },
    {
      "cell_type": "code",
      "source": [
        "def calcular_promedio(lista): #Calcula el promedio de una lista de números\n",
        "    suma_precios=sum(lista) #Calcula la suma de todos los elementos en la lista proporcionada como argumento y almacena el resultado en la variable suma_precios.\n",
        "    if suma_precios == int: #Comprueba si suma_precios es una instancia de la clase int; numero\n",
        "      print(\"La lista debe ser de numeros\") #Imprime un mensaje de error si la lista no contiene números.\n",
        "    else: #Entra en este bloque si la lista contiene números.\n",
        "      promedio = suma_precios / len(lista) #Calcula el promedio dividiendo la suma de los precios por la cantidad de elementos en la lista.\n",
        "      return(promedio) #Devuelve el valor del promedio calculado."
      ],
      "metadata": {
        "id": "cxKrvty_c6H_"
      },
      "execution_count": 17,
      "outputs": []
    },
    {
      "cell_type": "code",
      "source": [
        "calcular_promedio(precios) #Llama a la función calcular_promedio con la lista precios como argumento"
      ],
      "metadata": {
        "colab": {
          "base_uri": "https://localhost:8080/"
        },
        "id": "cEwviJYn9IYU",
        "outputId": "fc9a9834-9673-4e33-82c0-a318a3524220"
      },
      "execution_count": 18,
      "outputs": [
        {
          "output_type": "execute_result",
          "data": {
            "text/plain": [
              "21.766666666666666"
            ]
          },
          "metadata": {},
          "execution_count": 18
        }
      ]
    },
    {
      "cell_type": "markdown",
      "source": [
        "## 13. Escribe una función convertir_dolares_a_euros que tome una cantidad en dólares y la convierta a euros (usando una tasa de cambio fija)."
      ],
      "metadata": {
        "id": "VJnc78xC_Qhc"
      }
    },
    {
      "cell_type": "code",
      "source": [
        "def convertir_dolares_a_euros(dolar=\"Ingresar cantidad de dolares\"): #convierte una cantidad en dólares a su equivalente en euros utilizando una tasa de conversión fija.\n",
        "  tasa=0.92 #Define la tasa de conversión de dólares a euros.\n",
        "  euro=dolar*tasa # Calcula el equivalente en euros multiplicando la cantidad en dólares (dolar) por la tasa de conversión (tasa).\n",
        "  if type (dolar) == int: #Revisa que los valores de dolar sean numero\n",
        "   print(\"Ingrese cantidad de dolares\") #\n",
        "  else: # Si la condicion no se cumple\n",
        "    print(euro) # mprime el equivalente en euros calculado."
      ],
      "metadata": {
        "id": "VZTaFpP0_Uzt"
      },
      "execution_count": 22,
      "outputs": []
    },
    {
      "cell_type": "code",
      "source": [
        "convertir_dolares_a_euros(10.000)"
      ],
      "metadata": {
        "colab": {
          "base_uri": "https://localhost:8080/"
        },
        "id": "iecaiiZhAPMp",
        "outputId": "328f7f9a-6019-4d90-ebbf-963cdc3954d4"
      },
      "execution_count": 24,
      "outputs": [
        {
          "output_type": "stream",
          "name": "stdout",
          "text": [
            "9.200000000000001\n"
          ]
        }
      ]
    },
    {
      "cell_type": "markdown",
      "source": [
        "## 14. Crea una función calcular_factorial que calcule el factorial de un número dado."
      ],
      "metadata": {
        "id": "YRJsRWvMERB7"
      }
    },
    {
      "cell_type": "code",
      "source": [
        "def calcular_factorial (f=(\"Ingresar numero\")): # Calcula el factorial de un número entero dado.\n",
        "  if f == 0 or f== 1: #Comprueba si el valor de f es 0 o 1, en cuyo caso el factorial es 1. Esto es un caso especial.\n",
        "    print(1) #Imprime 1 si el valor de f es 0 o 1, ya que el factorial de 0 y 1 es 1.\n",
        "  else:#Entra en este bloque si el valor de f no es 0 ni 1.\n",
        "    factorial = 1 #Inicia la variable factorial con el valor 1.\n",
        "    for i in range(2, f +1): # Itera a través de los números desde 2 hasta el valor de f + 1. Esto se debe a que ya se ha manejado el caso especial para 0 y 1.\n",
        "      factorial *=i #Calcula el factorial multiplicando factorial por i en cada iteración.\n",
        "    print(factorial)# Imprime el valor del factorial calculado después de salir del ciclo for."
      ],
      "metadata": {
        "id": "g_DO4qy7EVqF"
      },
      "execution_count": 31,
      "outputs": []
    },
    {
      "cell_type": "code",
      "source": [
        "calcular_factorial(3) #Llama a la función calcular_factorial con el valor 3 como ejemplo."
      ],
      "metadata": {
        "colab": {
          "base_uri": "https://localhost:8080/"
        },
        "id": "1kEPJdZIICNi",
        "outputId": "6c09d883-5df3-4aa6-a580-db11bd750c5d"
      },
      "execution_count": 33,
      "outputs": [
        {
          "output_type": "stream",
          "name": "stdout",
          "text": [
            "6\n"
          ]
        }
      ]
    },
    {
      "cell_type": "code",
      "source": [
        "calcular_factorial(0) #Llama a la función calcular_factorial con el valor 0 como ejemplo."
      ],
      "metadata": {
        "colab": {
          "base_uri": "https://localhost:8080/"
        },
        "id": "Au6fwongInsD",
        "outputId": "5a814773-3df1-4e36-f212-afefabd65175"
      },
      "execution_count": 34,
      "outputs": [
        {
          "output_type": "stream",
          "name": "stdout",
          "text": [
            "1\n"
          ]
        }
      ]
    },
    {
      "cell_type": "markdown",
      "source": [
        "## 15. Define un diccionario que contenga los nombres y saldos de cuentas bancarias. Escribe una función que encuentre la cuenta con el saldo más alto."
      ],
      "metadata": {
        "id": "y1x04263Itm3"
      }
    },
    {
      "cell_type": "code",
      "source": [
        "saldos_cuentas={'bancolombia':35, 'davivienda':165, 'bogota':10000, 'occidente':2300, 'nequi':49, 'av.villas':1885, 'daviplata':20000, 'caja.social':5734,}"
      ],
      "metadata": {
        "id": "69mfI2ssJMy8"
      },
      "execution_count": 43,
      "outputs": []
    },
    {
      "cell_type": "code",
      "source": [
        "def saldo_mas_alto(lista): #Encuentra y muestra la cuenta con el saldo más alto en un diccionario de saldos de cuentas.\n",
        "    saldo_alto = float('-inf') #Inicia la variable saldo_alto con un valor negativo infinito. Esto se hace para asegurarse de que cualquier saldo sea mayor que este valor inicial.\n",
        "    cuenta_mayor = None #Inicia la variable cuenta_mayor como None, que se utilizará para almacenar la cuenta con el saldo más alto.\n",
        "    for cuenta, saldo in lista.items(): #Itera a través de los nombres de cuentas y saldos en saldos_cuentas).\n",
        "      if saldo > saldo_alto: #Compara si el saldo actual es mayor que el valor almacenado en saldo_alto.\n",
        "        saldo_alto = saldo #Si el saldo actual es mayor, actualiza saldo_alto con el valor del saldo actual.\n",
        "        cuenta_mayor = cuenta   #Asigna el nombre de cuenta actual a cuenta_mayor.\n",
        "    print(cuenta_mayor) #Imprime el nombre de la cuenta con el saldo más alto encontrado."
      ],
      "metadata": {
        "id": "iCRDtYUhIx6s"
      },
      "execution_count": 44,
      "outputs": []
    },
    {
      "cell_type": "code",
      "source": [
        "saldo_mas_alto(saldos_cuentas) #Llama a la función saldo_mas_alto pasando el diccionario saldos_cuentas como argumento"
      ],
      "metadata": {
        "colab": {
          "base_uri": "https://localhost:8080/"
        },
        "id": "W5L5Ze9pPAjK",
        "outputId": "645ae546-dce2-4935-935f-f8e0d845b1d9"
      },
      "execution_count": 45,
      "outputs": [
        {
          "output_type": "stream",
          "name": "stdout",
          "text": [
            "daviplata\n"
          ]
        }
      ]
    },
    {
      "cell_type": "markdown",
      "source": [
        "## 16. Escribe un programa que calcule e imprima los primeros números triangulares a discresión del usuario."
      ],
      "metadata": {
        "id": "U94YUxnbQVZ-"
      }
    },
    {
      "cell_type": "code",
      "source": [
        "def numeros_triangulares (n): #Genera y muestra una secuencia de números triangulares hasta el valor n.\n",
        "  if type (n) == int: #Comprueba si n es un número entero.\n",
        "     print(1, n +1) #Si n es un entero, devuelve una tupla que contiene los valores 1 y n + 1.\n",
        "  else: #Entra en este bloque si n no es un número entero.\n",
        "    for i in range(n*(n+1)) // 2: #Itera a través de un rango hasta n * (n + 1)) // 2.\n",
        "      print(numeros_triangulares(i)) #Imprime el resultado de la función numeros_triangulares(i)"
      ],
      "metadata": {
        "id": "szIHB9JXQd-6"
      },
      "execution_count": 75,
      "outputs": []
    },
    {
      "cell_type": "code",
      "source": [
        "numeros_triangulares(5) #Llama a la función numeros_triangulares"
      ],
      "metadata": {
        "colab": {
          "base_uri": "https://localhost:8080/"
        },
        "id": "uSLFJPlQpb-C",
        "outputId": "a3ff0200-8dce-4aa7-d2a5-73cf21beb8d3"
      },
      "execution_count": 13,
      "outputs": [
        {
          "output_type": "execute_result",
          "data": {
            "text/plain": [
              "(1, 6)"
            ]
          },
          "metadata": {},
          "execution_count": 13
        }
      ]
    },
    {
      "cell_type": "code",
      "source": [
        "def numeros_triangulares (n): #Calcula y muestra el n-ésimo número triangular.\n",
        "  if type (n) == int: #Comprueba si n es un número entero.\n",
        "     return(n*(n+1)) // 2 #Si n es un entero, devuelve el n-ésimo número triangular calculado mediante la fórmula (n * (n + 1)) // 2.\n",
        "  else: #Entra en este bloque si n no es un número entero.\n",
        "    for i in range(1, n +1): #Itera a través de los valores desde 1 hasta n.\n",
        "      print(numeros_triangulares(i)) #Imprime el resultado de la función numeros_triangulares(i) para cada valor i en el rango."
      ],
      "metadata": {
        "id": "Y_8HmXRvtqJV"
      },
      "execution_count": 14,
      "outputs": []
    },
    {
      "cell_type": "code",
      "source": [
        "numeros_triangulares(5) #Llama a la función numeros_triangulares"
      ],
      "metadata": {
        "colab": {
          "base_uri": "https://localhost:8080/"
        },
        "id": "sSt6ueFFtv-T",
        "outputId": "db411885-ea0e-474d-cef4-d48668e50c40"
      },
      "execution_count": 15,
      "outputs": [
        {
          "output_type": "execute_result",
          "data": {
            "text/plain": [
              "15"
            ]
          },
          "metadata": {},
          "execution_count": 15
        }
      ]
    },
    {
      "cell_type": "markdown",
      "source": [
        "## 17. Crea una función calcular_descuento que calcule el precio final después de aplicar un descuento a un artículo."
      ],
      "metadata": {
        "id": "V1-EB4A8t1HZ"
      }
    },
    {
      "cell_type": "code",
      "source": [
        "def calcular_descuento(p,d): #Función llamada calcular_descuento que toma dos argumentos: p y d. La función se utilizará para calcular el descuento aplicado a un precio (p) dado, según un porcentaje de descuento (d).\n",
        "  descuento= p * (d / 100) #Se calcula el descuento multiplicando el precio p por el porcentaje de descuento d / 100. Esto da como resultado el valor del descuento en unidades monetarias.\n",
        "  if type(d)==int: #Verifica si el tipo de d es un entero (int). d representa el porcentaje de descuento. Esta línea asegura que el porcentaje de descuento sea un número entero antes de continuar con el cálculo.\n",
        "    return(p-descuento) #Si el porcentaje de descuento es un número entero, entonces la función resta el descuento calculado del precio original p y retorna el precio con el descuento aplicado.\n",
        "  else: #Si el porcentaje de descuento no es un número entero, entonces en lugar de retornar el resultado.\n",
        "    print(p-descuento) #Se imprime en la consola el precio con el descuento aplicado."
      ],
      "metadata": {
        "id": "dJJbaIeXuOhy"
      },
      "execution_count": 27,
      "outputs": []
    },
    {
      "cell_type": "code",
      "source": [
        "calcular_descuento(20000,20) #Ejecuta la funcion calcular_descuento"
      ],
      "metadata": {
        "colab": {
          "base_uri": "https://localhost:8080/"
        },
        "id": "ZUbYzmRkvZ3I",
        "outputId": "e985d955-dc3a-4e9f-9fd4-501d32baf68f"
      },
      "execution_count": 29,
      "outputs": [
        {
          "output_type": "execute_result",
          "data": {
            "text/plain": [
              "16000.0"
            ]
          },
          "metadata": {},
          "execution_count": 29
        }
      ]
    },
    {
      "cell_type": "markdown",
      "source": [
        "## 18. Escribe una función que tome una lista de números y devuelva una nueva lista con solo los números pares."
      ],
      "metadata": {
        "id": "B5LiHh1yyqCO"
      }
    },
    {
      "cell_type": "code",
      "source": [
        "n=[1,2,3,4,5,6,7,8,9,10] #Se define una lista llamada n que contiene los números del 1 al 10."
      ],
      "metadata": {
        "id": "qPx-3H6r1ROL"
      },
      "execution_count": 33,
      "outputs": []
    },
    {
      "cell_type": "code",
      "source": [
        "def solo_pares (lista): #Define una función llamada solo_pares que toma un argumento llamado lista. Esta función se utilizará para filtrar y mostrar solamente los números pares de la lista que se le pase como entrada.\n",
        "  numeros_pares=[] #Lista vacía llamada numeros_pares que se utiliza para almacenar los números pares encontrados en la lista de entrada.\n",
        "  for numero in lista: #Inicia un bucle for que itera a través de cada elemento numero en la lista que se pasa como argumento a la función.\n",
        "    if numero % 2 == 0: #Dentro del bucle, esta línea verifica si el numero actual es divisible por 2 sin dejar un residuo; Verifica si el número es par.\n",
        "      numeros_pares.append(numero) #Si el número es par, se agrega a la lista numeros_pares utilizando el método append(). Esto acumula los números pares encontrados en la lista.\n",
        "  print(numeros_pares) #Omprime en la lista numeros_pares que contiene los números pares extraídos de la lista original."
      ],
      "metadata": {
        "id": "uDlSLRF5ysQj"
      },
      "execution_count": 35,
      "outputs": []
    },
    {
      "cell_type": "code",
      "source": [
        "solo_pares(n) #Llama a la función solo_pares pasando la lista n como argumento; se imprimirán los números pares contenidos en la lista n."
      ],
      "metadata": {
        "colab": {
          "base_uri": "https://localhost:8080/"
        },
        "id": "LFRnyk2e03O-",
        "outputId": "9accfe9c-8df7-4249-c251-571b3bbedbdc"
      },
      "execution_count": 36,
      "outputs": [
        {
          "output_type": "stream",
          "name": "stdout",
          "text": [
            "[2, 4, 6, 8, 10]\n"
          ]
        }
      ]
    },
    {
      "cell_type": "markdown",
      "source": [
        "## 19. Crea una lista de números y utiliza una función para encontrar el número más grande y el más pequeño."
      ],
      "metadata": {
        "id": "JChJl7OC2gWR"
      }
    },
    {
      "cell_type": "code",
      "source": [
        "l=[45,9,23,56,16,35,78,45,32,34,10,65] #Se define una lista llamada l que contiene una serie de números."
      ],
      "metadata": {
        "id": "Kq1wNJYV2n4-"
      },
      "execution_count": 52,
      "outputs": []
    },
    {
      "cell_type": "code",
      "source": [
        "def numero_mas_grande_pequeño(lista): #Define una función llamada numero_mas_grande_pequeño que toma un argumento llamado lista\n",
        "  mas_grande=float('-inf') # Se inicia mas_grande con valores que aseguran que cualquier número en la lista será mayor que mas_grande.\n",
        "  mas_pequeño=float('inf') #Se inicia mas_pequeño con valores que aseguran que cualquier número en la lista será menor que mas_pequeño\n",
        "  for numero in lista: #Inicia un bucle for que itera a través de cada elemento numero en la lista que se pasa como argumento a la función.\n",
        "    if numero > mas_grande: #Dentro del bucle, esta línea compara el numero actual con el valor almacenado en mas_grande.\n",
        "    if numero < mas_pequeño:#Si el numero es mayor que mas_grande se actualiza el valor de mas_grande con el valor de numero.\n",
        "      mas_pequeño=numero #Compara el numero actual con el valor almacenado en mas_pequeño. Si el numero es menor que mas_pequeño, se actualiza el valor de mas_pequeño con el valor de numero.\n",
        "  print(\"EL numero mas grande es\",mas_grande) #Imprimen los valores de mas_grande, mostrando así los números más grande de la lista original.\n",
        "  print(\"El numero mas pequeño es\",mas_pequeño) ##Imprimen los valores de mas_pequeño, mostrando así los números más pequeo de la lista original."
      ],
      "metadata": {
        "id": "h43VvtpV2zb1"
      },
      "execution_count": 53,
      "outputs": []
    },
    {
      "cell_type": "code",
      "source": [
        "numero_mas_grande_pequeño(l) #Llama a la función numero_mas_grande_pequeño pasando la lista l como argumento. Como resultado, se mostrarán los números más grande y más pequeño contenidos en la lista l."
      ],
      "metadata": {
        "colab": {
          "base_uri": "https://localhost:8080/"
        },
        "id": "gFEPLjmd4J6O",
        "outputId": "598f24e1-6d3c-4e66-9c8c-6bd78da26263"
      },
      "execution_count": 54,
      "outputs": [
        {
          "output_type": "stream",
          "name": "stdout",
          "text": [
            "EL numero mas grande es 78\n",
            "El numero mas pequeño es 9\n"
          ]
        }
      ]
    },
    {
      "cell_type": "markdown",
      "source": [
        "## 20. Escribe un programa que genere e imprima los primeros n términos de la secuencia de números de Pell a discresión del usuario."
      ],
      "metadata": {
        "id": "AIgq_1Ci6jgl"
      }
    },
    {
      "cell_type": "code",
      "source": [
        "def pell(nt=\"numero de termino\"): #Define una función llamada pell que toma un argumento nt con un valor predeterminado de \"numero de termino\". La función se utilizará para generar una secuencia de números de Pell hasta el término especificado.\n",
        "  numeros_pell=[0,2] #Se crea una lista numeros_pell que contiene los dos primeros términos de la secuencia de Pell. Los primeros términos son 0 y 2.\n",
        "  for i in range(2, nt): #Este bucle for itera desde 2 hasta el valor de nt - 1. Comienza en 2 porque los dos primeros términos ya están en la lista. nt es el número de términos de la secuencia de Pell que deseamos generar.\n",
        "    p=2*numeros_pell[i-1]+numeros_pell[i-2] #En cada iteración del bucle, se calcula el siguiente término de la secuencia de Pell utilizando la fórmula: P(n) = 2 * P(n-1) + P(n-2). Aquí, P(n) es el término actual que se está calculando, P(n-1) es el término anterior y P(n-2) es el término antes del anterior. El resultado se almacena en la variable p.\n",
        "    numeros_pell.append(p) #El valor calculado en la línea anterior se agrega a la lista numeros_pell utilizando el método append(). Esto amplía la secuencia de números de Pell en la lista.\n",
        "  print(numeros_pell) #Esta línea imprime en la consola la lista numeros_pell que contiene la secuencia de números de Pell generada."
      ],
      "metadata": {
        "id": "AA6KgrZK7AiV"
      },
      "execution_count": 56,
      "outputs": []
    },
    {
      "cell_type": "code",
      "source": [
        "pell(5) #Llama a la función pell con un valor de nt igual a 5 como argumento. Esto generará la secuencia de Pell hasta el quinto término."
      ],
      "metadata": {
        "colab": {
          "base_uri": "https://localhost:8080/"
        },
        "id": "eKi88fac7zV3",
        "outputId": "a48db5b0-fe4a-45a3-80f9-0a0a37b4ceb1"
      },
      "execution_count": 57,
      "outputs": [
        {
          "output_type": "stream",
          "name": "stdout",
          "text": [
            "[0, 2, 4, 10, 24]\n"
          ]
        }
      ]
    },
    {
      "cell_type": "markdown",
      "source": [
        "## 21. Crea una función calcular_amortizacion que calcule la amortización de un préstamo a lo largo del tiempo."
      ],
      "metadata": {
        "id": "sqDvDsqA84_S"
      }
    },
    {
      "cell_type": "code",
      "source": [
        "def calcular_amortizacion(p=\"prestamo\", I=\"interes\", plazo=\"debe ser en meses\"): #Se define una función llamada calcular_amortizacion que toma tres argumentos opcionales: p (préstamo), I (interés) y plazo (número de meses). La función se utilizará para calcular y mostrar la tabla de amortización para un préstamo con intereses.\n",
        "    tasa = I / 100 / 12 #se calcula la tasa de interés mensual dividiendo el valor del interés I por 100 y luego dividiéndolo nuevamente por 12 para convertirlo en una tasa mensual decimal.\n",
        "    cuota = (p * tasa) / (1 - (1 + tasa) ** (-plazo)) #Calcula el valor de la cuota mensual utilizando la fórmula de amortización de préstamos. La cuota es el monto que el prestatario debe pagar mensualmente para pagar el préstamo en el plazo especificado.\n",
        "    amortizacion = [] #Se crea una lista vacía llamada amortizacion que se utilizará para almacenar los detalles de cada pago mensual de la amortización.\n",
        "    saldo = p #Se inicializa la variable saldo con el valor del préstamo p, que representará el saldo pendiente a lo largo del tiempo.\n",
        "    for mes in range(1, plazo + 1): #Bucle for itera desde el mes 1 hasta el valor de plazo, representa cada mes en el período de amortización.\n",
        "        interes = saldo * tasa # Se calcula el interés correspondiente al mes actual\n",
        "        capital = cuota - interes #Se calcula el capital pagado correspondiente al mes actual.\n",
        "        saldo -= capital #Se calcula el nuevo saldo pendiente correspondiente al mes actual.\n",
        "        amortizacion.append((mes, cuota, interes, capital, saldo)) #Los detalles de cada mes se almacenan como una tupla (mes, cuota, interes, capital, saldo) en la lista amortizacion.\n",
        "    iprint(\"\\nMes | Cuota Mensual | Interés | Capital | Saldo Pendiente\") #Se imprime el encabezados para la tabla de amortización.\n",
        "    print(\"=\" * 60) ##Se imprime el encabezados para la tabla de amortización.\n",
        "    for mes, cuota, interes, capital, saldo in amortizacion: #Se recorre la lista amortizacion.\n",
        "        print(f\"{mes:3} | {cuota:.2f} | {interes:.2f} | {capital:.2f} | {saldo:.2f}\") #Se imprime cada fila de la tabla de amortización con los detalles de cada mes."
      ],
      "metadata": {
        "id": "_A6vR7XeJZlB"
      },
      "execution_count": 75,
      "outputs": []
    },
    {
      "cell_type": "code",
      "source": [
        "calcular_amortizacion(1000000, 24, 12) #Llama a la función calcular_amortizacion. Como resultado, se imprimirá la tabla de amortización para este préstamo en particular."
      ],
      "metadata": {
        "colab": {
          "base_uri": "https://localhost:8080/"
        },
        "id": "wgab3stkKIoP",
        "outputId": "f86a90fc-2277-40ad-e71c-bed481547c72"
      },
      "execution_count": 76,
      "outputs": [
        {
          "output_type": "stream",
          "name": "stdout",
          "text": [
            "\n",
            "Mes | Cuota Mensual | Interés | Capital | Saldo Pendiente\n",
            "============================================================\n",
            "  1 | 94559.60 | 20000.00 | 74559.60 | 925440.40\n",
            "  2 | 94559.60 | 18508.81 | 76050.79 | 849389.61\n",
            "  3 | 94559.60 | 16987.79 | 77571.80 | 771817.81\n",
            "  4 | 94559.60 | 15436.36 | 79123.24 | 692694.57\n",
            "  5 | 94559.60 | 13853.89 | 80705.71 | 611988.86\n",
            "  6 | 94559.60 | 12239.78 | 82319.82 | 529669.05\n",
            "  7 | 94559.60 | 10593.38 | 83966.22 | 445702.83\n",
            "  8 | 94559.60 | 8914.06 | 85645.54 | 360057.29\n",
            "  9 | 94559.60 | 7201.15 | 87358.45 | 272698.84\n",
            " 10 | 94559.60 | 5453.98 | 89105.62 | 183593.22\n",
            " 11 | 94559.60 | 3671.86 | 90887.73 | 92705.49\n",
            " 12 | 94559.60 | 1854.11 | 92705.49 | 0.00\n"
          ]
        }
      ]
    },
    {
      "cell_type": "markdown",
      "source": [
        "## 22. Escribe un programa que determine si un número dado es un número perfecto o no."
      ],
      "metadata": {
        "id": "nfFqUTVrKg_0"
      }
    },
    {
      "cell_type": "code",
      "source": [
        "def numero_perfecto(numero): #Define una función llamada numero_perfecto que toma un argumento llamado numero. La función se utilizará para determinar si el número dado es un número perfecto o no.\n",
        "  suma_divisores = 0 #Se inicia la variable suma_divisores con un valor de 0. Esta variable se utilizará para sumar los divisores del número dado.\n",
        "  for divisor in range(1, numero): #Bucle for itera desde 1 hasta numero - 1, lo que significa que evaluará todos los posibles divisores del número excepto el propio número.\n",
        "     if numero % divisor == 0: #Dentro del bucle, se verifica si el numero es divisible por divisor sin dejar residuo (numero % divisor == 0).\n",
        "        suma_divisores += divisor #Si es así, se agrega el valor de divisor a la suma_divisores.\n",
        "  if suma_divisores == numero: #Se verifica si la suma_divisores es igual al numero original. Si es igual, significa que la suma de los divisores del número es igual al número mismo, lo que lo clasifica como un número perfecto.\n",
        "        print(\"es un numero perfecto\") #Se imprime \"es un numero perfecto\".\n",
        "  else: #De lo contrario, si la suma de los divisores no es igual al número original.\n",
        "        print(\"no es un numero perfecto\") #Se imprime \"no es un numero perfecto\"."
      ],
      "metadata": {
        "id": "YGdrqPuTKrVx"
      },
      "execution_count": 86,
      "outputs": []
    },
    {
      "cell_type": "code",
      "source": [
        "numero_perfecto(10) #Llama a la función numero_perfecto con el valor 10 como argumento. Como resultado, se determinará si 10 es un número perfecto y se imprimirá el resultado correspondiente."
      ],
      "metadata": {
        "colab": {
          "base_uri": "https://localhost:8080/"
        },
        "id": "x5EcqoIfLp9G",
        "outputId": "cf80a84a-29d6-440b-a060-23192937045d"
      },
      "execution_count": 87,
      "outputs": [
        {
          "output_type": "stream",
          "name": "stdout",
          "text": [
            "no es un numero perfecto\n"
          ]
        }
      ]
    },
    {
      "cell_type": "markdown",
      "source": [
        "## 23. Define un diccionario que almacene las tasas de interés para diferentes tipos de préstamos. Pide al usuario que ingrese un tipo de préstamo y muestra la tasa de interés correspondiente."
      ],
      "metadata": {
        "id": "R2vHgZ6INsX4"
      }
    },
    {
      "cell_type": "code",
      "source": [
        "tipos_prestamo={'hipotecario':17,'leasing':15,'libre_inversion':28,'libranza':20,'vehiculo':18} #Se define un diccionario llamado tipos_prestamo. Este diccionario contiene varios tipos de préstamos como claves y sus respectivas tasas de interés como valores."
      ],
      "metadata": {
        "id": "EnyMD1IjN39w"
      },
      "execution_count": 88,
      "outputs": []
    },
    {
      "cell_type": "code",
      "source": [
        "def mostrar_tasa(tipo): #Define una función llamada mostrar_tasa que toma un argumento llamado tipo. Esta función se utilizará para mostrar la tasa de interés asociada a un tipo de préstamo específico.\n",
        "  if tipo in tipos_prestamo: #Verifica si el tipo de préstamo dado está presente como una clave en el diccionario tipos_prestamo.\n",
        "    tasa_interes = tipos_prestamo[tipo]  #Si el tipo de préstamo está en el diccionario, esta línea asigna el valor correspondiente (la tasa de interés) a la variable tasa_interes.\n",
        "    print(f\"La tasa de interés para el préstamo {tipo} es de {tasa_interes}%\") #Se utiliza una f-string para imprimir un mensaje que muestra el tipo de préstamo y su tasa de interés asociada.\n",
        "  else: #Si el tipo de préstamo no está en el diccionario\n",
        "    print(\"Tipo de préstamo no encontrado en la lista.\") #Se imprime un mensaje que indica que el tipo de préstamo no fue encontrado en la lista."
      ],
      "metadata": {
        "id": "nsfFfReQQmBL"
      },
      "execution_count": 94,
      "outputs": []
    },
    {
      "cell_type": "code",
      "source": [
        "mostrar_tasa('hipotecario') #Llama a la función mostrar_tasa con el argumento 'hipotecario'. Como resultado, se mostrará la tasa de interés asociada al préstamo hipotecario."
      ],
      "metadata": {
        "colab": {
          "base_uri": "https://localhost:8080/"
        },
        "id": "8Iy4SCzFUSQR",
        "outputId": "57e77242-340a-4c81-c867-1fd14dc4487f"
      },
      "execution_count": 93,
      "outputs": [
        {
          "output_type": "stream",
          "name": "stdout",
          "text": [
            "La tasa de interés para el préstamo hipotecario es 17%\n"
          ]
        }
      ]
    },
    {
      "cell_type": "markdown",
      "source": [
        "## 24. Escribe una función calcular_media_geometrica que calcule la media geométrica de una lista de números."
      ],
      "metadata": {
        "id": "0EOgsqwYVTij"
      }
    },
    {
      "cell_type": "code",
      "source": [
        "n1=[2,6,9,19,21,27,30] #Se define una lista llamada n1 que contiene una serie de números. Estos números serán utilizados para calcular la media geométrica."
      ],
      "metadata": {
        "id": "SDUU9E_6Vt5r"
      },
      "execution_count": 95,
      "outputs": []
    },
    {
      "cell_type": "code",
      "source": [
        "def calcular_media_geometrica(lista): #Define una función llamada calcular_media_geometrica que toma un argumento llamado lista. Esta función se utilizará para calcular y mostrar la media geométrica de los números en la lista dada.\n",
        "    producto = 1 #Se inicia una variable llamada producto con un valor de 1.\n",
        "    n = len(lista) #se calcula la longitud de la lista lista utilizando la función len() y se almacena en la variable n.\n",
        "    for numero in lista: #Bucle for itera a través de cada número en la lista.\n",
        "        producto *= numero #En cada iteración, el número se multiplica por el valor actual de producto. Esto calcula el producto de todos los números en la lista.\n",
        "    media_geometrica = producto ** (1/n) #Se calcula la media geométrica dividiendo el producto de los números en la lista elevado a la potencia de 1/n, donde n es la longitud de la lista. Calcular el producto a la potencia de 1/n es equivalente a calcular la raíz n-ésima del producto.\n",
        "    print(\"La media geométrica es de:\", media_geometrica) #Se imprime en la consola el valor de la media geométrica calculada."
      ],
      "metadata": {
        "id": "TsiPwoCtVpHM"
      },
      "execution_count": 97,
      "outputs": []
    },
    {
      "cell_type": "code",
      "source": [
        "  calcular_media_geometrica(n1) #Llama a la función calcular_media_geometrica con la lista n1 como argumento. Como resultado, se calculará y mostrará la media geométrica de los números en la lista."
      ],
      "metadata": {
        "colab": {
          "base_uri": "https://localhost:8080/"
        },
        "id": "0fP8YGLcVY1W",
        "outputId": "eb21ec5b-ab39-4ae3-bee3-33cb13a62dd7"
      },
      "execution_count": 98,
      "outputs": [
        {
          "output_type": "stream",
          "name": "stdout",
          "text": [
            "La media geométrica es de: 11.955136091897996\n"
          ]
        }
      ]
    },
    {
      "cell_type": "markdown",
      "source": [
        "## 25. Crea una lista de números y utiliza una función para encontrar el segundo número más grande."
      ],
      "metadata": {
        "id": "2XfEv0HaXtxt"
      }
    },
    {
      "cell_type": "code",
      "source": [
        "n2=[3,6,78,32,45,15,92,49,12,23] #Se define una lista llamada n2 que contiene una serie de números. Estos números serán utilizados para encontrar el segundo número más grande en la lista."
      ],
      "metadata": {
        "id": "gNevuRQC05Bl"
      },
      "execution_count": 1,
      "outputs": []
    },
    {
      "cell_type": "code",
      "source": [
        "def segundo_mas_grande(lista):#Define una función llamada segundo_mas_grande que toma un argumento llamado lista. Esta función se utilizará para encontrar y retornar el segundo número más grande en la lista dada.\n",
        "    if len(lista) < 2: #Verifica si la longitud de la lista es menor que 2.\n",
        "      print(\"La lista debe contener al menos dos números\") #Imprime un mensaje que indica que la lista debe contener al menos dos números para poder encontrar el segundo número más grande.\n",
        "    g1 = g2 = float('-inf') #Se inician dos variables, g1 y g2, con el valor negativo infinito, estas variables se utilizarán para rastrear los dos números más grandes en la lista.\n",
        "    for num in lista: #Bucle for itera a través de cada número en la lista.\n",
        "        if num > g1: #Dentro del bucle, se verifica si el número actual (num) es mayor que el valor actual de g1.\n",
        "            g2 = g1 #Si es así, se actualiza el valor de g2 con el valor actual de g1.\n",
        "            g1 = num #Se actualiza el valor de g1 con el valor de num. Esto asegura que g1 almacene el número más grande y g2 almacene el segundo número más grande hasta el momento.\n",
        "        elif num > g2 and num != g1: #Si el número no es mayor que g1, entonces se verifica si es mayor que g2 y no es igual a g1.\n",
        "            g2 = num #Si es así, se actualiza el valor de g2 con el valor de num. Esto asegura que g2 siempre almacene el segundo número más grande.\n",
        "    if g2 == float('-inf'): #Después de completar el bucle, se verifica si g2 sigue siendo igual al valor negativo infinito, si es así, significa que no se encontró un segundo número más grande en la lista.\n",
        "        print(\"No hay un segundo número más grande en la lista\") #Se imprime un mensaje que indica que no hay un segundo número más grande.\n",
        "    else: #Si g2 no es igual al valor negativo infinito, significa que se encontró un segundo número más grande en la lista.\n",
        "        return g2 # se retorna el valor de g2."
      ],
      "metadata": {
        "id": "k-K86AH0XzEY"
      },
      "execution_count": 3,
      "outputs": []
    },
    {
      "cell_type": "code",
      "source": [
        "segundo_mas_grande(n2) #Llama a la función segundo_mas_grande con la lista n2 como argumento. Como resultado, se calculará y retornará el segundo número más grande en la lista."
      ],
      "metadata": {
        "colab": {
          "base_uri": "https://localhost:8080/"
        },
        "id": "Zzs4HYIR2wLU",
        "outputId": "c5f793e7-9eff-4f7b-dd42-a2f023098b8b"
      },
      "execution_count": 4,
      "outputs": [
        {
          "output_type": "execute_result",
          "data": {
            "text/plain": [
              "78"
            ]
          },
          "metadata": {},
          "execution_count": 4
        }
      ]
    },
    {
      "cell_type": "markdown",
      "source": [
        "## 26. Escribe un programa que calcule e imprima los primeros n números de la serie de los números de Lucas a discresión del usuario."
      ],
      "metadata": {
        "id": "EhSm1cfZ26fI"
      }
    },
    {
      "cell_type": "code",
      "source": [
        "def numeros_lucas(n): #Define una función llamada numeros_lucas que toma un argumento n. Esta función se utilizará para generar y mostrar los primeros n números de la secuencia de Lucas.\n",
        "    if n <= 0: #Verifica si el valor de n es menor o igual a cero.\n",
        "        print(\"Ingrese un valor mayor que 0\") #Si es así, se imprime un mensaje que indica que el usuario debe ingresar un valor mayor que cero.\n",
        "    elif n == 1: #Si n es igual a 1.\n",
        "        print([2]) #Se imprime una lista que contiene el primer número de la secuencia de Lucas, que es 2.\n",
        "    elif n == 2: #Si n es igual a 2.\n",
        "        print([2, 1]) #Se imprime una lista que contiene los primeros dos números de la secuencia de Lucas, que son 2 y 1.\n",
        "    else: #Si ninguna de las condiciones anteriores se cumple, esto significa que se desea generar más de dos números de la secuencia de Lucas.\n",
        "        lucas = [2, 1] #Se crea una lista llamada lucas que inicialmente contiene los primeros dos números de la secuencia.\n",
        "        for i in range(2, n): #Bucle for que itera desde 2 hasta n-1.\n",
        "            lucas.append(lucas[i-1] + lucas[i-2]) #Dentro del bucle, se calcula el siguiente número de la secuencia de Lucas sumando los dos números anteriores y se agrega a la lista lucas.\n",
        "        print(lucas) #Se inmprime lucas"
      ],
      "metadata": {
        "id": "oGaTu38G3KFc"
      },
      "execution_count": 9,
      "outputs": []
    },
    {
      "cell_type": "code",
      "source": [
        "numeros_lucas(10) #Llama a la función numeros_lucas con el argumento 10. Como resultado, se generará y mostrará una lista con los primeros 10 números de la secuencia de Lucas."
      ],
      "metadata": {
        "colab": {
          "base_uri": "https://localhost:8080/"
        },
        "id": "NxySvgfK56tg",
        "outputId": "1f73eb4e-0125-46c2-be6e-ee80a33fba9e"
      },
      "execution_count": 10,
      "outputs": [
        {
          "output_type": "stream",
          "name": "stdout",
          "text": [
            "[2, 1, 3, 4, 7, 11, 18, 29, 47, 76]\n"
          ]
        }
      ]
    },
    {
      "cell_type": "markdown",
      "source": [
        "## 27. Crea una función calcular_cuota_mensual que calcule la cuota mensual de un préstamo hipotecario."
      ],
      "metadata": {
        "id": "raHqjl4G7Q6z"
      }
    },
    {
      "cell_type": "code",
      "source": [
        "def calcular_cuota_mensual(prestamo, tasa_interes_anual, plazo_meses): #efine una función llamada calcular_cuota_mensual que toma tres argumentos: prestamo, tasa_interes_anual y plazo_meses. Esta función se utilizará para calcular y mostrar la cuota mensual de un préstamo.\n",
        "    tasa_interes_mensual = tasa_interes_anual / 100 / 12 #Se calcula la tasa de interés mensual dividiendo la tasa de interés anual entre 100 y luego dividiéndola nuevamente por 12.\n",
        "    cuota_mensual = (prestamo * tasa_interes_mensual) / (1 - (1 + tasa_interes_mensual)**-plazo_meses) #Calcula la cuota mensual del préstamo utilizando la fórmula de amortización de préstamos. Utiliza la tasa de interés mensual, el monto del préstamo prestamo y el número de meses del plazo plazo_meses.\n",
        "    print(f\"La cuota mensual del préstamo es de: {cuota_mensual:.2f}\") #Se imprime en la consola la cuota mensual calculada, formateada con dos decimales, utilizando una f-string."
      ],
      "metadata": {
        "id": "KHnIwnvU597S"
      },
      "execution_count": 21,
      "outputs": []
    },
    {
      "cell_type": "code",
      "source": [
        "calcular_cuota_mensual(1000000, 24, 12) #Llama a la función calcular_cuota_mensual con los argumentos 1000000, 24 y 12. Como resultado, se calculará y mostrará la cuota mensual del préstamo con esos parámetros."
      ],
      "metadata": {
        "colab": {
          "base_uri": "https://localhost:8080/"
        },
        "id": "EyrUa4HY9trE",
        "outputId": "194c2d2a-9046-4e9c-977e-da90a96f59be"
      },
      "execution_count": 22,
      "outputs": [
        {
          "output_type": "stream",
          "name": "stdout",
          "text": [
            "La cuota mensual del préstamo es de: 94559.60\n"
          ]
        }
      ]
    },
    {
      "cell_type": "markdown",
      "source": [
        "## 28. Escribe una función que determine si un número es un número de Armstrong (un número de n dígitos que es igual a la suma de sus dígitos elevados a la n)."
      ],
      "metadata": {
        "id": "0rLxC12-_mz_"
      }
    },
    {
      "cell_type": "code",
      "source": [
        "def numero_armstrong(numero): #define una función llamada numero_armstrong que toma un argumento llamado numero. La función verificará si el número dado es un número de Armstrong.\n",
        "    num_str = str(numero) #se convierte el número en una cadena de caracteres utilizando la función str(). Esto permitirá acceder a cada dígito del número individualmente.\n",
        "    n = len(num_str)#Se calcula la longitud de la cadena num_str, que es la cantidad de dígitos en el número.\n",
        "    suma_digitos = sum(int(digit) ** n for digit in num_str)#suma de cada dígito elevado a la potencia n. Cada dígito en la cadena num_str se convierte en un número entero utilizando int(), y luego se eleva a la potencia n. La función sum() se utiliza para sumar todos los resultados de esta operación.\n",
        "    if suma_digitos == numero:#se verifica si la suma_digitos es igual al número original.\n",
        "        print(f\"{numero} es un numero de Armstrong\")#se imprime un mensaje que indica que el número es de Armstrong.\n",
        "    else:#Si la suma no es igual al número original\n",
        "        print(f\"{numero} no es un numero de Armstrong.\")#se imprime un mensaje que indica que el número no es de Armstrong."
      ],
      "metadata": {
        "id": "thMcqnDg_1kT"
      },
      "execution_count": 25,
      "outputs": []
    },
    {
      "cell_type": "code",
      "source": [
        "numero_armstrong(23)#llama a la función numero_armstrong con el argumento 23. Como resultado, se verificará si el número 23 es un número de Armstrong y se imprimirá el resultado correspondiente."
      ],
      "metadata": {
        "colab": {
          "base_uri": "https://localhost:8080/"
        },
        "id": "CtDBdYbUAs7D",
        "outputId": "e686c853-21eb-4ab7-b937-f3a48528e8b8"
      },
      "execution_count": 26,
      "outputs": [
        {
          "output_type": "stream",
          "name": "stdout",
          "text": [
            "23 no es un numero de Armstrong.\n"
          ]
        }
      ]
    },
    {
      "cell_type": "markdown",
      "source": [
        "## 29. Define un diccionario que almacene los símbolos de moneda y sus respectivos códigos. Escribe un programa que convierta una cantidad de dinero de una moneda a otra."
      ],
      "metadata": {
        "id": "SJqlgkuHCBYo"
      }
    },
    {
      "cell_type": "code",
      "source": [
        "monedas ={'USD':'$','EUR':'€','JPY':'¥','GBP':'£'}#se define un diccionario llamado monedas que contiene códigos de moneda como claves y símbolos de moneda como valores correspondientes."
      ],
      "metadata": {
        "id": "LX-rav4RCEmi"
      },
      "execution_count": 28,
      "outputs": []
    },
    {
      "cell_type": "code",
      "source": [
        "tasas_conversion = {(\"USD\", \"EUR\"): 0.92,(\"USD\", \"JPY\"): 145.42,(\"USD\", \"GBP\"): 0.79,  (\"EUR\", \"JPY\"): 158.37, (\"EUR\", \"GBP\"): 0.86,(\"JPY\", \"GBP\"): 0.0054}#se define un diccionario llamado tasas_conversion que contiene tuplas de pares de códigos de moneda como claves y tasas de conversión como valores correspondientes."
      ],
      "metadata": {
        "id": "BlcZAPY6DfSV"
      },
      "execution_count": 30,
      "outputs": []
    },
    {
      "cell_type": "code",
      "source": [
        "def convertir_moneda(cantidad, moneda_origen, moneda_destino):#define una función llamada convertir_moneda que toma tres argumentos: cantidad (la cantidad de dinero a convertir), moneda_origen (la moneda de origen) y moneda_destino (la moneda de destino). Esta función se utilizará para convertir una cantidad de dinero de una moneda a otra.\n",
        "    if moneda_origen == moneda_destino:#verifica si la moneda de origen es igual a la moneda de destino.\n",
        "        print(f\"{cantidad:.2f} {monedas[moneda_origen]}\")# imprime la cantidad original con el símbolo de la moneda de origen.\n",
        "    elif (moneda_origen, moneda_destino) in tasas_conversion:#Si las monedas de origen y destino no son iguales y existe una tasa de conversión definida para el par de monedas dado en tasas_conversion.\n",
        "        tasa = tasas_conversion[(moneda_origen, moneda_destino)]#se calcula la tasa de conversión.\n",
        "        cantidad_convertida = cantidad * tasa#se multiplica la cantidad original por la tasa para obtener la cantidad convertida.\n",
        "        print(f\"{cantidad_convertida:.2f} {monedas[moneda_destino]}\")#se imprime la cantidad convertida con el símbolo de la moneda de destino.\n",
        "    else:#Si ninguna de las condiciones anteriores se cumple, significa que no hay una tasa de conversión definida para el par de monedas dado.\n",
        "        print(\"No se puede realizar la conversión\")#se imprime un mensaje indicando que no es posible realizar la conversión."
      ],
      "metadata": {
        "id": "tvK90YjAHxFP"
      },
      "execution_count": 35,
      "outputs": []
    },
    {
      "cell_type": "code",
      "source": [
        "convertir_moneda(20,\"USD\",\"GBP\")# llama a la función convertir_moneda con los argumentos 20 (cantidad), \"USD\" (moneda de origen) y \"GBP\" (moneda de destino). Como resultado, se calculará y mostrará la cantidad convertida de dólares estadounidenses a libras británicas utilizando las tasas de conversión definidas."
      ],
      "metadata": {
        "colab": {
          "base_uri": "https://localhost:8080/"
        },
        "id": "imENbNSGIWp_",
        "outputId": "773a55ca-4302-4104-b6e5-07986dff07aa"
      },
      "execution_count": 36,
      "outputs": [
        {
          "output_type": "stream",
          "name": "stdout",
          "text": [
            "15.80 £\n"
          ]
        }
      ]
    },
    {
      "cell_type": "markdown",
      "source": [
        "## 30. Crea una función que calcule la desviación estándar de una lista de números."
      ],
      "metadata": {
        "id": "42jHzBcaNSSp"
      }
    },
    {
      "cell_type": "code",
      "source": [
        "n3=[34,5,87,23,1,11,25]#se define una lista llamada n3 que contiene una serie de números."
      ],
      "metadata": {
        "id": "DR4Ji6J8O3Ft"
      },
      "execution_count": 38,
      "outputs": []
    },
    {
      "cell_type": "code",
      "source": [
        "def calcular_desviacion_estandar(lista):#define una función llamada calcular_desviacion_estandar que toma un argumento lista. Esta función se utilizará para calcular y mostrar la desviación estándar de los números en la lista dada.\n",
        "    n = len(lista)#Se calcula la longitud de la lista lista y se almacena en la variable n\n",
        "    if n <= 1:#verifica si n es menor o igual a 1.\n",
        "        print(0)#Si es así se imprime 0 porque la desviación estándar no se puede calcular en estas circunstancias.\n",
        "    media = sum(lista) / n#Se calcula la media aritmética de los elementos en la lista dividiendo la suma de todos los elementos entre la cantidad total de elementos n.\n",
        "    suma_diferencias_cuadrado = sum((x - media)**2 for x in lista)#Se utiliza una expresión generadora para calcular la suma de las diferencias al cuadrado entre cada elemento x en la lista y la media calculada anteriormente.\n",
        "    desviacion_estandar = (suma_diferencias_cuadrado / (n - 1)) ** 0.5#Se calcula la desviación estándar dividiendo la suma de las diferencias al cuadrado entre (n - 1) y luego se toma la raíz cuadrada de este resultado.\n",
        "    print (desviacion_estandar)# imprime en la consola el valor calculado de la desviación estándar."
      ],
      "metadata": {
        "id": "EXOlVrJrNbHT"
      },
      "execution_count": 37,
      "outputs": []
    },
    {
      "cell_type": "code",
      "source": [
        "calcular_desviacion_estandar(n3)# llama a la función calcular_desviacion_estandar con la lista n3 como argumento. Como resultado, se calculará y mostrará la desviación estándar de los números en esa lista."
      ],
      "metadata": {
        "colab": {
          "base_uri": "https://localhost:8080/"
        },
        "id": "SOIMYhDDOyl2",
        "outputId": "c3b4804c-10c3-4c59-e296-ec78dee47e2e"
      },
      "execution_count": 39,
      "outputs": [
        {
          "output_type": "stream",
          "name": "stdout",
          "text": [
            "29.10817263734902\n"
          ]
        }
      ]
    }
  ]
}