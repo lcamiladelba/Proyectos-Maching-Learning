{
  "nbformat": 4,
  "nbformat_minor": 0,
  "metadata": {
    "colab": {
      "provenance": []
    },
    "kernelspec": {
      "name": "python3",
      "display_name": "Python 3"
    },
    "language_info": {
      "name": "python"
    }
  },
  "cells": [
    {
      "cell_type": "markdown",
      "source": [
        "# Clasificadores"
      ],
      "metadata": {
        "id": "5BUl6qgaP-cJ"
      }
    },
    {
      "cell_type": "code",
      "execution_count": 6,
      "metadata": {
        "id": "Bx3M0MUnLfjD"
      },
      "outputs": [],
      "source": [
        "import pandas as pd\n",
        "import numpy as np\n",
        "import matplotlib.pyplot as plt\n",
        "\n",
        "from matplotlib.colors import ListedColormap\n",
        "\n",
        "from sklearn import datasets\n",
        "from sklearn.model_selection import train_test_split\n",
        "from sklearn.metrics import accuracy_score\n",
        "\n",
        "from sklearn.svm import SVC\n",
        "from sklearn.preprocessing import StandardScaler\n",
        "from sklearn.linear_model import LogisticRegression\n",
        "from sklearn.neighbors import KNeighborsClassifier"
      ]
    },
    {
      "cell_type": "code",
      "source": [
        "\n",
        "import pandas as pd\n",
        "from sklearn.model_selection import train_test_split\n",
        "from sklearn.linear_model import Lasso\n",
        "from sklearn.metrics import mean_squared_error\n",
        "import numpy as np\n",
        "\n",
        "\n",
        "train_data = pd.read_csv('data_wage_train.csv')\n",
        "\n",
        "\n",
        "X = train_data[['educ', 'exper', 'married', 'female', 'tenure']]\n",
        "y = train_data['wage']\n",
        "\n",
        "\n",
        "X_train, X_test, y_train, y_test = train_test_split(X, y, test_size=0.2, random_state=143)\n",
        "\n",
        "\n",
        "lasso_model = Lasso(alpha=0.1)\n",
        "lasso_model.fit(X_train, y_train)\n",
        "\n",
        "Lasso(alpha=0.1)\n",
        "\n",
        "\n",
        "y_pred = lasso_model.predict(X_test)\n",
        "\n",
        "\n",
        "mse = mean_squared_error(y_test, y_pred)\n",
        "print(f\"Error Cuadrático Medio: {mse}\")\n",
        "\n",
        "\n",
        "\n",
        "test_data = pd.read_csv('data_test.csv')\n",
        "\n",
        "\n",
        "test_predictions = lasso_model.predict(test_data)\n",
        "\n",
        "\n",
        "kar = pd.DataFrame({\n",
        "    'id': range(len(test_data)),\n",
        "    'Expected': test_predictions\n",
        "})\n",
        "\n",
        "\n",
        "kar.to_csv('regresion2.csv', index = False)"
      ],
      "metadata": {
        "colab": {
          "base_uri": "https://localhost:8080/"
        },
        "id": "fEDjj8iHbpOn",
        "outputId": "e075a94c-c0c1-4a54-d8ec-55e165cfa1d8"
      },
      "execution_count": 40,
      "outputs": [
        {
          "output_type": "stream",
          "name": "stdout",
          "text": [
            "Error Cuadrático Medio: 15.89875993794044\n"
          ]
        }
      ]
    }
  ]
}