{
  "nbformat": 4,
  "nbformat_minor": 0,
  "metadata": {
    "colab": {
      "provenance": []
    },
    "kernelspec": {
      "name": "python3",
      "display_name": "Python 3"
    },
    "language_info": {
      "name": "python"
    }
  },
  "cells": [
    {
      "cell_type": "code",
      "execution_count": 9,
      "metadata": {
        "id": "LFAs19iV92Q_"
      },
      "outputs": [],
      "source": [
        "import pandas as pd\n",
        "import numpy as np\n",
        "from sklearn.linear_model import LinearRegression, Lasso, Ridge, ElasticNet\n",
        "from sklearn.impute import SimpleImputer\n",
        "from sklearn.preprocessing import StandardScaler, OrdinalEncoder, OneHotEncoder, MaxAbsScaler, MinMaxScaler\n",
        "from sklearn.metrics import mean_squared_error\n",
        "from sklearn.experimental import enable_iterative_imputer\n",
        "from sklearn.impute import IterativeImputer\n",
        "from sklearn.impute import KNNImputer\n",
        "from sklearn.ensemble import IsolationForest\n",
        "from sklearn.neighbors import LocalOutlierFactor\n",
        "from sklearn.covariance import EllipticEnvelope\n",
        "from sklearn.model_selection import GridSearchCV, train_test_split"
      ]
    },
    {
      "cell_type": "code",
      "source": [
        "train = pd.read_csv('data_wage_train.csv')\n",
        "test = pd.read_csv('data_test.csv')"
      ],
      "metadata": {
        "id": "irqUyR_w-z0a"
      },
      "execution_count": 10,
      "outputs": []
    },
    {
      "cell_type": "code",
      "source": [
        "y_train = train['wage']\n",
        "X_train = train.drop(columns=['wage'])"
      ],
      "metadata": {
        "id": "iae_U06y_EUY"
      },
      "execution_count": 11,
      "outputs": []
    },
    {
      "cell_type": "code",
      "source": [
        "ridge_reg = Ridge(1)\n",
        "param_grid = {'alpha' : [0, 5, 10, 15]}\n",
        "gs_ridge = GridSearchCV(\n",
        "    ridge_reg,\n",
        "    param_grid=param_grid,\n",
        "    scoring='neg_mean_squared_error',\n",
        "    cv=3, verbose=2\n",
        ")"
      ],
      "metadata": {
        "id": "q-_rZfgo_w1Z"
      },
      "execution_count": 12,
      "outputs": []
    },
    {
      "cell_type": "code",
      "source": [
        "gs_ridge.fit(X_train, y_train)\n",
        "y_pred=gs_ridge.predict(test)"
      ],
      "metadata": {
        "colab": {
          "base_uri": "https://localhost:8080/"
        },
        "id": "jqRCR2yfByrn",
        "outputId": "246f4fd5-bb57-450f-dcab-e9d12839ea6e"
      },
      "execution_count": 13,
      "outputs": [
        {
          "output_type": "stream",
          "name": "stdout",
          "text": [
            "Fitting 3 folds for each of 4 candidates, totalling 12 fits\n",
            "[CV] END ............................................alpha=0; total time=   0.0s\n",
            "[CV] END ............................................alpha=0; total time=   0.0s\n",
            "[CV] END ............................................alpha=0; total time=   0.0s\n",
            "[CV] END ............................................alpha=5; total time=   0.0s\n",
            "[CV] END ............................................alpha=5; total time=   0.0s\n",
            "[CV] END ............................................alpha=5; total time=   0.0s\n",
            "[CV] END ...........................................alpha=10; total time=   0.0s\n",
            "[CV] END ...........................................alpha=10; total time=   0.0s\n",
            "[CV] END ...........................................alpha=10; total time=   0.0s\n",
            "[CV] END ...........................................alpha=15; total time=   0.0s\n",
            "[CV] END ...........................................alpha=15; total time=   0.0s\n",
            "[CV] END ...........................................alpha=15; total time=   0.0s\n"
          ]
        }
      ]
    },
    {
      "cell_type": "code",
      "source": [
        "uno = pd.DataFrame(data = y_pred, index = range(106), columns = [\"Expected\"])\n",
        "uno.reset_index().rename (columns = {\"index\":\"id\"}).to_csv(\"uno .csv\", index = False)"
      ],
      "metadata": {
        "id": "cU2G0b0DBz2G"
      },
      "execution_count": 14,
      "outputs": []
    }
  ]
}